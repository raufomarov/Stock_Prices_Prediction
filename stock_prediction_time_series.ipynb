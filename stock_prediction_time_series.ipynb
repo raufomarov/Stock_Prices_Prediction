{
 "cells": [
  {
   "cell_type": "markdown",
   "metadata": {},
   "source": [
    "# **Stock Exhange Predictions with LSTM**"
   ]
  },
  {
   "cell_type": "markdown",
   "metadata": {},
   "source": [
    "### Imports"
   ]
  },
  {
   "cell_type": "code",
   "execution_count": 1,
   "metadata": {},
   "outputs": [],
   "source": [
    "import os\n",
    "import sys\n",
    "import math\n",
    "import random\n",
    "import warnings\n",
    "\n",
    "import pandas as pd\n",
    "import numpy as np\n",
    "\n",
    "import matplotlib.pyplot as plt\n",
    "\n",
    "from sklearn.preprocessing import MinMaxScaler, StandardScaler\n",
    "from sklearn.metrics import mean_squared_error\n",
    "\n",
    "from tensorflow.keras.models import Sequential\n",
    "from tensorflow.keras.layers import Dense , BatchNormalization , Dropout , Activation\n",
    "from tensorflow.keras.layers import LSTM , GRU\n",
    "from tensorflow.keras.optimizers import Adam , SGD , RMSprop\n",
    "from tensorflow.keras.callbacks import ReduceLROnPlateau , ModelCheckpoint\n",
    "from tensorflow.keras.models import load_model\n",
    "\n",
    "warnings.filterwarnings('ignore')\n",
    "\n",
    "pd.options.display.max_columns = 1000\n",
    "pd.options.display.max_rows = 10000\n",
    "pd.options.display.max_colwidth = -1\n",
    "\n",
    "def seed_everything(seed=0):\n",
    "    random.seed(seed)\n",
    "    os.environ['PYTHONHASHSEED'] = str(seed)\n",
    "    np.random.seed(seed)\n",
    "\n",
    "RANDOM_STATE = 313\n",
    "seed_everything(seed=RANDOM_STATE)"
   ]
  },
  {
   "cell_type": "markdown",
   "metadata": {},
   "source": [
    "### Exploratory Data Analysis"
   ]
  },
  {
   "cell_type": "code",
   "execution_count": 2,
   "metadata": {},
   "outputs": [],
   "source": [
    "data = pd.read_csv('prices.csv')"
   ]
  },
  {
   "cell_type": "code",
   "execution_count": 3,
   "metadata": {},
   "outputs": [
    {
     "data": {
      "text/html": [
       "<div>\n",
       "<style scoped>\n",
       "    .dataframe tbody tr th:only-of-type {\n",
       "        vertical-align: middle;\n",
       "    }\n",
       "\n",
       "    .dataframe tbody tr th {\n",
       "        vertical-align: top;\n",
       "    }\n",
       "\n",
       "    .dataframe thead th {\n",
       "        text-align: right;\n",
       "    }\n",
       "</style>\n",
       "<table border=\"1\" class=\"dataframe\">\n",
       "  <thead>\n",
       "    <tr style=\"text-align: right;\">\n",
       "      <th></th>\n",
       "      <th>date</th>\n",
       "      <th>symbol</th>\n",
       "      <th>open</th>\n",
       "      <th>close</th>\n",
       "      <th>low</th>\n",
       "      <th>high</th>\n",
       "      <th>volume</th>\n",
       "    </tr>\n",
       "  </thead>\n",
       "  <tbody>\n",
       "    <tr>\n",
       "      <th>0</th>\n",
       "      <td>2016-01-05 00:00:00</td>\n",
       "      <td>WLTW</td>\n",
       "      <td>123.430000</td>\n",
       "      <td>125.839996</td>\n",
       "      <td>122.309998</td>\n",
       "      <td>126.250000</td>\n",
       "      <td>2163600.0</td>\n",
       "    </tr>\n",
       "    <tr>\n",
       "      <th>1</th>\n",
       "      <td>2016-01-06 00:00:00</td>\n",
       "      <td>WLTW</td>\n",
       "      <td>125.239998</td>\n",
       "      <td>119.980003</td>\n",
       "      <td>119.940002</td>\n",
       "      <td>125.540001</td>\n",
       "      <td>2386400.0</td>\n",
       "    </tr>\n",
       "    <tr>\n",
       "      <th>2</th>\n",
       "      <td>2016-01-07 00:00:00</td>\n",
       "      <td>WLTW</td>\n",
       "      <td>116.379997</td>\n",
       "      <td>114.949997</td>\n",
       "      <td>114.930000</td>\n",
       "      <td>119.739998</td>\n",
       "      <td>2489500.0</td>\n",
       "    </tr>\n",
       "    <tr>\n",
       "      <th>3</th>\n",
       "      <td>2016-01-08 00:00:00</td>\n",
       "      <td>WLTW</td>\n",
       "      <td>115.480003</td>\n",
       "      <td>116.620003</td>\n",
       "      <td>113.500000</td>\n",
       "      <td>117.440002</td>\n",
       "      <td>2006300.0</td>\n",
       "    </tr>\n",
       "    <tr>\n",
       "      <th>4</th>\n",
       "      <td>2016-01-11 00:00:00</td>\n",
       "      <td>WLTW</td>\n",
       "      <td>117.010002</td>\n",
       "      <td>114.970001</td>\n",
       "      <td>114.089996</td>\n",
       "      <td>117.330002</td>\n",
       "      <td>1408600.0</td>\n",
       "    </tr>\n",
       "  </tbody>\n",
       "</table>\n",
       "</div>"
      ],
      "text/plain": [
       "                  date symbol        open       close         low        high  \\\n",
       "0  2016-01-05 00:00:00  WLTW   123.430000  125.839996  122.309998  126.250000   \n",
       "1  2016-01-06 00:00:00  WLTW   125.239998  119.980003  119.940002  125.540001   \n",
       "2  2016-01-07 00:00:00  WLTW   116.379997  114.949997  114.930000  119.739998   \n",
       "3  2016-01-08 00:00:00  WLTW   115.480003  116.620003  113.500000  117.440002   \n",
       "4  2016-01-11 00:00:00  WLTW   117.010002  114.970001  114.089996  117.330002   \n",
       "\n",
       "      volume  \n",
       "0  2163600.0  \n",
       "1  2386400.0  \n",
       "2  2489500.0  \n",
       "3  2006300.0  \n",
       "4  1408600.0  "
      ]
     },
     "execution_count": 3,
     "metadata": {},
     "output_type": "execute_result"
    }
   ],
   "source": [
    "data.head()"
   ]
  },
  {
   "cell_type": "code",
   "execution_count": 4,
   "metadata": {},
   "outputs": [
    {
     "name": "stdout",
     "output_type": "stream",
     "text": [
      "<class 'pandas.core.frame.DataFrame'>\n",
      "RangeIndex: 851264 entries, 0 to 851263\n",
      "Data columns (total 7 columns):\n",
      "date      851264 non-null object\n",
      "symbol    851264 non-null object\n",
      "open      851264 non-null float64\n",
      "close     851264 non-null float64\n",
      "low       851264 non-null float64\n",
      "high      851264 non-null float64\n",
      "volume    851264 non-null float64\n",
      "dtypes: float64(5), object(2)\n",
      "memory usage: 45.5+ MB\n"
     ]
    }
   ],
   "source": [
    "data.info()"
   ]
  },
  {
   "cell_type": "code",
   "execution_count": 5,
   "metadata": {},
   "outputs": [
    {
     "data": {
      "text/plain": [
       "date      object \n",
       "symbol    object \n",
       "open      float64\n",
       "close     float64\n",
       "low       float64\n",
       "high      float64\n",
       "volume    float64\n",
       "dtype: object"
      ]
     },
     "execution_count": 5,
     "metadata": {},
     "output_type": "execute_result"
    }
   ],
   "source": [
    "data.dtypes"
   ]
  },
  {
   "cell_type": "code",
   "execution_count": 6,
   "metadata": {},
   "outputs": [
    {
     "data": {
      "text/html": [
       "<div>\n",
       "<style scoped>\n",
       "    .dataframe tbody tr th:only-of-type {\n",
       "        vertical-align: middle;\n",
       "    }\n",
       "\n",
       "    .dataframe tbody tr th {\n",
       "        vertical-align: top;\n",
       "    }\n",
       "\n",
       "    .dataframe thead th {\n",
       "        text-align: right;\n",
       "    }\n",
       "</style>\n",
       "<table border=\"1\" class=\"dataframe\">\n",
       "  <thead>\n",
       "    <tr style=\"text-align: right;\">\n",
       "      <th></th>\n",
       "      <th>date</th>\n",
       "      <th>symbol</th>\n",
       "      <th>open</th>\n",
       "      <th>close</th>\n",
       "      <th>low</th>\n",
       "      <th>high</th>\n",
       "      <th>volume</th>\n",
       "    </tr>\n",
       "  </thead>\n",
       "  <tbody>\n",
       "    <tr>\n",
       "      <th>count</th>\n",
       "      <td>851264</td>\n",
       "      <td>851264</td>\n",
       "      <td>851264.000000</td>\n",
       "      <td>851264.000000</td>\n",
       "      <td>851264.000000</td>\n",
       "      <td>851264.000000</td>\n",
       "      <td>8.512640e+05</td>\n",
       "    </tr>\n",
       "    <tr>\n",
       "      <th>unique</th>\n",
       "      <td>3524</td>\n",
       "      <td>501</td>\n",
       "      <td>NaN</td>\n",
       "      <td>NaN</td>\n",
       "      <td>NaN</td>\n",
       "      <td>NaN</td>\n",
       "      <td>NaN</td>\n",
       "    </tr>\n",
       "    <tr>\n",
       "      <th>top</th>\n",
       "      <td>2016-05-31</td>\n",
       "      <td>FOX</td>\n",
       "      <td>NaN</td>\n",
       "      <td>NaN</td>\n",
       "      <td>NaN</td>\n",
       "      <td>NaN</td>\n",
       "      <td>NaN</td>\n",
       "    </tr>\n",
       "    <tr>\n",
       "      <th>freq</th>\n",
       "      <td>498</td>\n",
       "      <td>1762</td>\n",
       "      <td>NaN</td>\n",
       "      <td>NaN</td>\n",
       "      <td>NaN</td>\n",
       "      <td>NaN</td>\n",
       "      <td>NaN</td>\n",
       "    </tr>\n",
       "    <tr>\n",
       "      <th>mean</th>\n",
       "      <td>NaN</td>\n",
       "      <td>NaN</td>\n",
       "      <td>70.836986</td>\n",
       "      <td>70.857109</td>\n",
       "      <td>70.118414</td>\n",
       "      <td>71.543476</td>\n",
       "      <td>5.415113e+06</td>\n",
       "    </tr>\n",
       "    <tr>\n",
       "      <th>std</th>\n",
       "      <td>NaN</td>\n",
       "      <td>NaN</td>\n",
       "      <td>83.695876</td>\n",
       "      <td>83.689686</td>\n",
       "      <td>82.877294</td>\n",
       "      <td>84.465504</td>\n",
       "      <td>1.249468e+07</td>\n",
       "    </tr>\n",
       "    <tr>\n",
       "      <th>min</th>\n",
       "      <td>NaN</td>\n",
       "      <td>NaN</td>\n",
       "      <td>0.850000</td>\n",
       "      <td>0.860000</td>\n",
       "      <td>0.830000</td>\n",
       "      <td>0.880000</td>\n",
       "      <td>0.000000e+00</td>\n",
       "    </tr>\n",
       "    <tr>\n",
       "      <th>25%</th>\n",
       "      <td>NaN</td>\n",
       "      <td>NaN</td>\n",
       "      <td>33.840000</td>\n",
       "      <td>33.849998</td>\n",
       "      <td>33.480000</td>\n",
       "      <td>34.189999</td>\n",
       "      <td>1.221500e+06</td>\n",
       "    </tr>\n",
       "    <tr>\n",
       "      <th>50%</th>\n",
       "      <td>NaN</td>\n",
       "      <td>NaN</td>\n",
       "      <td>52.770000</td>\n",
       "      <td>52.799999</td>\n",
       "      <td>52.230000</td>\n",
       "      <td>53.310001</td>\n",
       "      <td>2.476250e+06</td>\n",
       "    </tr>\n",
       "    <tr>\n",
       "      <th>75%</th>\n",
       "      <td>NaN</td>\n",
       "      <td>NaN</td>\n",
       "      <td>79.879997</td>\n",
       "      <td>79.889999</td>\n",
       "      <td>79.110001</td>\n",
       "      <td>80.610001</td>\n",
       "      <td>5.222500e+06</td>\n",
       "    </tr>\n",
       "    <tr>\n",
       "      <th>max</th>\n",
       "      <td>NaN</td>\n",
       "      <td>NaN</td>\n",
       "      <td>1584.439941</td>\n",
       "      <td>1578.130005</td>\n",
       "      <td>1549.939941</td>\n",
       "      <td>1600.930054</td>\n",
       "      <td>8.596434e+08</td>\n",
       "    </tr>\n",
       "  </tbody>\n",
       "</table>\n",
       "</div>"
      ],
      "text/plain": [
       "              date  symbol           open          close            low  \\\n",
       "count   851264      851264  851264.000000  851264.000000  851264.000000   \n",
       "unique  3524        501    NaN            NaN            NaN              \n",
       "top     2016-05-31  FOX    NaN            NaN            NaN              \n",
       "freq    498         1762   NaN            NaN            NaN              \n",
       "mean    NaN         NaN     70.836986      70.857109      70.118414       \n",
       "std     NaN         NaN     83.695876      83.689686      82.877294       \n",
       "min     NaN         NaN     0.850000       0.860000       0.830000        \n",
       "25%     NaN         NaN     33.840000      33.849998      33.480000       \n",
       "50%     NaN         NaN     52.770000      52.799999      52.230000       \n",
       "75%     NaN         NaN     79.879997      79.889999      79.110001       \n",
       "max     NaN         NaN     1584.439941    1578.130005    1549.939941     \n",
       "\n",
       "                 high        volume  \n",
       "count   851264.000000  8.512640e+05  \n",
       "unique NaN            NaN            \n",
       "top    NaN            NaN            \n",
       "freq   NaN            NaN            \n",
       "mean    71.543476      5.415113e+06  \n",
       "std     84.465504      1.249468e+07  \n",
       "min     0.880000       0.000000e+00  \n",
       "25%     34.189999      1.221500e+06  \n",
       "50%     53.310001      2.476250e+06  \n",
       "75%     80.610001      5.222500e+06  \n",
       "max     1600.930054    8.596434e+08  "
      ]
     },
     "execution_count": 6,
     "metadata": {},
     "output_type": "execute_result"
    }
   ],
   "source": [
    "data.describe(include='all')"
   ]
  },
  {
   "cell_type": "code",
   "execution_count": 7,
   "metadata": {},
   "outputs": [
    {
     "data": {
      "text/plain": [
       "(Timestamp('2010-01-04 00:00:00'), Timestamp('2016-12-30 00:00:00'))"
      ]
     },
     "execution_count": 7,
     "metadata": {},
     "output_type": "execute_result"
    }
   ],
   "source": [
    "date = pd.to_datetime(data['date'])\n",
    "min(date), max(date)"
   ]
  },
  {
   "cell_type": "code",
   "execution_count": 8,
   "metadata": {},
   "outputs": [
    {
     "data": {
      "text/plain": [
       "date      0\n",
       "symbol    0\n",
       "open      0\n",
       "close     0\n",
       "low       0\n",
       "high      0\n",
       "volume    0\n",
       "dtype: int64"
      ]
     },
     "execution_count": 8,
     "metadata": {},
     "output_type": "execute_result"
    }
   ],
   "source": [
    "data.isnull().sum()"
   ]
  },
  {
   "cell_type": "code",
   "execution_count": 9,
   "metadata": {
    "scrolled": true
   },
   "outputs": [
    {
     "data": {
      "text/plain": [
       "array(['WLTW', 'A', 'AAL', 'AAP', 'AAPL', 'ABC', 'ABT', 'ACN', 'ADBE',\n",
       "       'ADI', 'ADM', 'ADP', 'ADS', 'ADSK', 'AEE', 'AEP', 'AES', 'AET',\n",
       "       'AFL', 'AGN'], dtype=object)"
      ]
     },
     "execution_count": 9,
     "metadata": {},
     "output_type": "execute_result"
    }
   ],
   "source": [
    "data.symbol.unique()[0:20]"
   ]
  },
  {
   "cell_type": "code",
   "execution_count": 10,
   "metadata": {},
   "outputs": [
    {
     "data": {
      "image/png": "[encoded data removed]",
      "text/plain": [
       "<Figure size 1152x576 with 2 Axes>"
      ]
     },
     "metadata": {
      "needs_background": "light"
     },
     "output_type": "display_data"
    },
    {
     "name": "stdout",
     "output_type": "stream",
     "text": [
      "correlation: 0.9992\n"
     ]
    }
   ],
   "source": [
    "def plotter(df, symbol):\n",
    "    company = df[df['symbol'] == symbol]\n",
    "    open_values = company.open.values.astype('float32').reshape(-1, 1)\n",
    "    close_values = company.close.values.astype('float32').reshape(-1, 1)\n",
    "    \n",
    "    fig, axes = plt.subplots(2, 1, figsize=(16, 8))\n",
    "    axes[0].set_xlabel('Time')\n",
    "    axes[0].set_ylabel('Prices')\n",
    "    axes[0].set_title(symbol + ' open stock prices')\n",
    "    axes[0].plot(open_values , 'g')\n",
    "    axes[0].xaxis.set_tick_params(rotation=270)\n",
    "    \n",
    "\n",
    "    axes[1].set_xlabel('Time')\n",
    "    axes[1].set_ylabel('Prices')\n",
    "    axes[1].set_title(symbol + ' close stock prices')\n",
    "    axes[1].plot(close_values , 'b')\n",
    "    axes[1].xaxis.set_tick_params(rotation=270)\n",
    "    \n",
    "    fig.tight_layout()\n",
    "    plt.grid(True)\n",
    "    plt.show()\n",
    "\n",
    "symbol = 'YHOO'\n",
    "plotter(data, symbol)\n",
    "\n",
    "symbol_df = data.loc[data['symbol'] == symbol]\n",
    "print(f\"correlation: {np.around(symbol_df[['open', 'close']].corr().values[0, 1], 4)}\")"
   ]
  },
  {
   "cell_type": "markdown",
   "metadata": {},
   "source": [
    "### Preprocessing"
   ]
  },
  {
   "cell_type": "code",
   "execution_count": 11,
   "metadata": {},
   "outputs": [],
   "source": [
    "series = data.loc[data['symbol'] == symbol, ['close']]\n",
    "series_mean = series.mean().values.item()\n",
    "series = series - series_mean\n",
    "scaler = MinMaxScaler(feature_range=(0, 1))\n",
    "series = scaler.fit_transform(series)"
   ]
  },
  {
   "cell_type": "code",
   "execution_count": 12,
   "metadata": {},
   "outputs": [
    {
     "data": {
      "text/html": [
       "<div>\n",
       "<style scoped>\n",
       "    .dataframe tbody tr th:only-of-type {\n",
       "        vertical-align: middle;\n",
       "    }\n",
       "\n",
       "    .dataframe tbody tr th {\n",
       "        vertical-align: top;\n",
       "    }\n",
       "\n",
       "    .dataframe thead th {\n",
       "        text-align: right;\n",
       "    }\n",
       "</style>\n",
       "<table border=\"1\" class=\"dataframe\">\n",
       "  <thead>\n",
       "    <tr style=\"text-align: right;\">\n",
       "      <th></th>\n",
       "      <th>0</th>\n",
       "    </tr>\n",
       "  </thead>\n",
       "  <tbody>\n",
       "    <tr>\n",
       "      <th>count</th>\n",
       "      <td>1762.000000</td>\n",
       "    </tr>\n",
       "    <tr>\n",
       "      <th>mean</th>\n",
       "      <td>0.392490</td>\n",
       "    </tr>\n",
       "    <tr>\n",
       "      <th>std</th>\n",
       "      <td>0.276329</td>\n",
       "    </tr>\n",
       "    <tr>\n",
       "      <th>min</th>\n",
       "      <td>0.000000</td>\n",
       "    </tr>\n",
       "    <tr>\n",
       "      <th>25%</th>\n",
       "      <td>0.117006</td>\n",
       "    </tr>\n",
       "    <tr>\n",
       "      <th>50%</th>\n",
       "      <td>0.379360</td>\n",
       "    </tr>\n",
       "    <tr>\n",
       "      <th>75%</th>\n",
       "      <td>0.636810</td>\n",
       "    </tr>\n",
       "    <tr>\n",
       "      <th>max</th>\n",
       "      <td>1.000000</td>\n",
       "    </tr>\n",
       "  </tbody>\n",
       "</table>\n",
       "</div>"
      ],
      "text/plain": [
       "                 0\n",
       "count  1762.000000\n",
       "mean   0.392490   \n",
       "std    0.276329   \n",
       "min    0.000000   \n",
       "25%    0.117006   \n",
       "50%    0.379360   \n",
       "75%    0.636810   \n",
       "max    1.000000   "
      ]
     },
     "execution_count": 12,
     "metadata": {},
     "output_type": "execute_result"
    }
   ],
   "source": [
    "pd.DataFrame(series).describe()"
   ]
  },
  {
   "cell_type": "code",
   "execution_count": 13,
   "metadata": {},
   "outputs": [
    {
     "data": {
      "text/plain": [
       "array([[<matplotlib.axes._subplots.AxesSubplot object at 0x0000013E81068CF8>]],\n",
       "      dtype=object)"
      ]
     },
     "execution_count": 13,
     "metadata": {},
     "output_type": "execute_result"
    },
    {
     "data": {
      "image/png": "[encoded data removed]",
      "text/plain": [
       "<Figure size 432x288 with 1 Axes>"
      ]
     },
     "metadata": {
      "needs_background": "light"
     },
     "output_type": "display_data"
    }
   ],
   "source": [
    "pd.DataFrame(series).hist(bins=100)"
   ]
  },
  {
   "cell_type": "markdown",
   "metadata": {},
   "source": [
    "### Modeling"
   ]
  },
  {
   "cell_type": "code",
   "execution_count": 14,
   "metadata": {},
   "outputs": [
    {
     "data": {
      "text/plain": [
       "((1409, 1), (353, 1))"
      ]
     },
     "execution_count": 14,
     "metadata": {},
     "output_type": "execute_result"
    }
   ],
   "source": [
    "# Split dataset into train and test\n",
    "train_length = int(len(series) * 0.8)\n",
    "train = series[:train_length]\n",
    "test = series[train_length:]\n",
    "train.shape, test.shape"
   ]
  },
  {
   "cell_type": "code",
   "execution_count": 22,
   "metadata": {},
   "outputs": [],
   "source": [
    "def process_data(data, n_steps):\n",
    "    X, y = list(), list()\n",
    "    for i in range(len(data) - n_steps):\n",
    "        sequence = data[i : (i + n_steps), 0]\n",
    "        X.append(sequence)\n",
    "        y.append(data[i + n_steps, 0])\n",
    "    return np.array(X), np.array(y)"
   ]
  },
  {
   "cell_type": "code",
   "execution_count": 1,
   "metadata": {},
   "outputs": [
    {
     "ename": "NameError",
     "evalue": "name 'process_data' is not defined",
     "output_type": "error",
     "traceback": [
      "\u001b[1;31m---------------------------------------------------------------------------\u001b[0m",
      "\u001b[1;31mNameError\u001b[0m                                 Traceback (most recent call last)",
      "\u001b[1;32m<ipython-input-1-d4962e8ebc22>\u001b[0m in \u001b[0;36m<module>\u001b[1;34m\u001b[0m\n\u001b[0;32m      1\u001b[0m \u001b[0mn_steps\u001b[0m \u001b[1;33m=\u001b[0m \u001b[1;36m2\u001b[0m\u001b[1;33m\u001b[0m\u001b[1;33m\u001b[0m\u001b[0m\n\u001b[1;32m----> 2\u001b[1;33m \u001b[0mX_train\u001b[0m\u001b[1;33m,\u001b[0m \u001b[0my_train\u001b[0m \u001b[1;33m=\u001b[0m \u001b[0mprocess_data\u001b[0m\u001b[1;33m(\u001b[0m\u001b[0mtrain\u001b[0m\u001b[1;33m,\u001b[0m \u001b[0mn_steps\u001b[0m\u001b[1;33m)\u001b[0m\u001b[1;33m\u001b[0m\u001b[1;33m\u001b[0m\u001b[0m\n\u001b[0m\u001b[0;32m      3\u001b[0m \u001b[0mX_test\u001b[0m\u001b[1;33m,\u001b[0m \u001b[0my_test\u001b[0m \u001b[1;33m=\u001b[0m \u001b[0mprocess_data\u001b[0m\u001b[1;33m(\u001b[0m\u001b[0mtest\u001b[0m\u001b[1;33m,\u001b[0m \u001b[0mn_steps\u001b[0m\u001b[1;33m)\u001b[0m\u001b[1;33m\u001b[0m\u001b[1;33m\u001b[0m\u001b[0m\n\u001b[0;32m      4\u001b[0m \u001b[1;33m\u001b[0m\u001b[0m\n\u001b[0;32m      5\u001b[0m \u001b[0mprint\u001b[0m\u001b[1;33m(\u001b[0m\u001b[0mX_train\u001b[0m\u001b[1;33m.\u001b[0m\u001b[0mshape\u001b[0m\u001b[1;33m,\u001b[0m \u001b[0my_train\u001b[0m\u001b[1;33m.\u001b[0m\u001b[0mshape\u001b[0m\u001b[1;33m,\u001b[0m \u001b[0mX_test\u001b[0m\u001b[1;33m.\u001b[0m\u001b[0mshape\u001b[0m\u001b[1;33m,\u001b[0m \u001b[0my_test\u001b[0m\u001b[1;33m.\u001b[0m\u001b[0mshape\u001b[0m\u001b[1;33m)\u001b[0m\u001b[1;33m\u001b[0m\u001b[1;33m\u001b[0m\u001b[0m\n",
      "\u001b[1;31mNameError\u001b[0m: name 'process_data' is not defined"
     ]
    }
   ],
   "source": [
    "n_steps = 2\n",
    "X_train, y_train = process_data(train, n_steps)\n",
    "X_test, y_test = process_data(test, n_steps)\n",
    "\n",
    "print(X_train.shape, y_train.shape, X_test.shape, y_test.shape)"
   ]
  },
  {
   "cell_type": "code",
   "execution_count": 17,
   "metadata": {},
   "outputs": [],
   "source": [
    "X_train = X_train[:, np.newaxis]\n",
    "X_test = X_test[:, np.newaxis]"
   ]
  },
  {
   "cell_type": "code",
   "execution_count": 18,
   "metadata": {},
   "outputs": [],
   "source": [
    "filepath = './model.h5'\n",
    "lr_reduce = ReduceLROnPlateau(monitor='val_loss', factor=0.8, min_delta=0.0001, patience=10, verbose=1)\n",
    "checkpoint = ModelCheckpoint(filepath, monitor='val_loss', verbose=1, save_best_only=True, mode='min')"
   ]
  },
  {
   "cell_type": "code",
   "execution_count": 19,
   "metadata": {},
   "outputs": [
    {
     "name": "stdout",
     "output_type": "stream",
     "text": [
      "Model: \"sequential\"\n",
      "_________________________________________________________________\n",
      "Layer (type)                 Output Shape              Param #   \n",
      "=================================================================\n",
      "gru (GRU)                    (None, 2, 256)            198912    \n",
      "_________________________________________________________________\n",
      "dropout (Dropout)            (None, 2, 256)            0         \n",
      "_________________________________________________________________\n",
      "lstm (LSTM)                  (None, 256)               525312    \n",
      "_________________________________________________________________\n",
      "dropout_1 (Dropout)          (None, 256)               0         \n",
      "_________________________________________________________________\n",
      "dense (Dense)                (None, 64)                16448     \n",
      "_________________________________________________________________\n",
      "dense_1 (Dense)              (None, 32)                2080      \n",
      "_________________________________________________________________\n",
      "dense_2 (Dense)              (None, 1)                 33        \n",
      "=================================================================\n",
      "Total params: 742,785\n",
      "Trainable params: 742,785\n",
      "Non-trainable params: 0\n",
      "_________________________________________________________________\n",
      "None\n"
     ]
    }
   ],
   "source": [
    "model = Sequential()\n",
    "model.add(GRU(256 , input_shape=(n_steps, 1) , return_sequences=True))\n",
    "model.add(Dropout(0.2))\n",
    "model.add(LSTM(256))\n",
    "model.add(Dropout(0.2))\n",
    "model.add(Dense(64 ,  activation = 'relu'))\n",
    "model.add(Dense(32 ,  activation = 'relu'))\n",
    "model.add(Dense(1))\n",
    "print(model.summary())"
   ]
  },
  {
   "cell_type": "code",
   "execution_count": 20,
   "metadata": {},
   "outputs": [],
   "source": [
    "model.compile(loss='mean_squared_error', optimizer=RMSprop(lr = 0.0001) , metrics = ['mean_squared_error'])"
   ]
  },
  {
   "cell_type": "code",
   "execution_count": 21,
   "metadata": {},
   "outputs": [
    {
     "name": "stdout",
     "output_type": "stream",
     "text": [
      "Train on 1407 samples, validate on 351 samples\n",
      "Epoch 1/100\n",
      "1280/1407 [==========================>...] - ETA: 0s - loss: 0.1789 - mean_squared_error: 0.1789\n",
      "Epoch 00001: val_loss improved from inf to 0.32544, saving model to ./model.h5\n",
      "1407/1407 [==============================] - 5s 4ms/sample - loss: 0.1801 - mean_squared_error: 0.1801 - val_loss: 0.3254 - val_mean_squared_error: 0.3254\n",
      "Epoch 2/100\n",
      "1280/1407 [==========================>...] - ETA: 0s - loss: 0.1582 - mean_squared_error: 0.1582\n",
      "Epoch 00002: val_loss improved from 0.32544 to 0.28733, saving model to ./model.h5\n",
      "1407/1407 [==============================] - 0s 266us/sample - loss: 0.1562 - mean_squared_error: 0.1562 - val_loss: 0.2873 - val_mean_squared_error: 0.2873\n",
      "Epoch 3/100\n",
      "1280/1407 [==========================>...] - ETA: 0s - loss: 0.1378 - mean_squared_error: 0.1378\n",
      "Epoch 00003: val_loss improved from 0.28733 to 0.24615, saving model to ./model.h5\n",
      "1407/1407 [==============================] - 0s 286us/sample - loss: 0.1364 - mean_squared_error: 0.1364 - val_loss: 0.2462 - val_mean_squared_error: 0.2462\n",
      "Epoch 4/100\n",
      "1280/1407 [==========================>...] - ETA: 0s - loss: 0.1165 - mean_squared_error: 0.1165\n",
      "Epoch 00004: val_loss improved from 0.24615 to 0.20207, saving model to ./model.h5\n",
      "1407/1407 [==============================] - 0s 289us/sample - loss: 0.1147 - mean_squared_error: 0.1147 - val_loss: 0.2021 - val_mean_squared_error: 0.2021\n",
      "Epoch 5/100\n",
      "1280/1407 [==========================>...] - ETA: 0s - loss: 0.0936 - mean_squared_error: 0.0936\n",
      "Epoch 00005: val_loss improved from 0.20207 to 0.15681, saving model to ./model.h5\n",
      "1407/1407 [==============================] - 0s 288us/sample - loss: 0.0925 - mean_squared_error: 0.0925 - val_loss: 0.1568 - val_mean_squared_error: 0.1568\n",
      "Epoch 6/100\n",
      "1280/1407 [==========================>...] - ETA: 0s - loss: 0.0719 - mean_squared_error: 0.0719\n",
      "Epoch 00006: val_loss improved from 0.15681 to 0.11145, saving model to ./model.h5\n",
      "1407/1407 [==============================] - 0s 274us/sample - loss: 0.0707 - mean_squared_error: 0.0707 - val_loss: 0.1115 - val_mean_squared_error: 0.1115\n",
      "Epoch 7/100\n",
      "1280/1407 [==========================>...] - ETA: 0s - loss: 0.0511 - mean_squared_error: 0.0511\n",
      "Epoch 00007: val_loss improved from 0.11145 to 0.07166, saving model to ./model.h5\n",
      "1407/1407 [==============================] - 0s 273us/sample - loss: 0.0496 - mean_squared_error: 0.0496 - val_loss: 0.0717 - val_mean_squared_error: 0.0717\n",
      "Epoch 8/100\n",
      "1280/1407 [==========================>...] - ETA: 0s - loss: 0.0337 - mean_squared_error: 0.0337\n",
      "Epoch 00008: val_loss improved from 0.07166 to 0.03974, saving model to ./model.h5\n",
      "1407/1407 [==============================] - 0s 249us/sample - loss: 0.0335 - mean_squared_error: 0.0335 - val_loss: 0.0397 - val_mean_squared_error: 0.0397\n",
      "Epoch 9/100\n",
      "1280/1407 [==========================>...] - ETA: 0s - loss: 0.0223 - mean_squared_error: 0.0223\n",
      "Epoch 00009: val_loss improved from 0.03974 to 0.01979, saving model to ./model.h5\n",
      "1407/1407 [==============================] - 0s 300us/sample - loss: 0.0219 - mean_squared_error: 0.0219 - val_loss: 0.0198 - val_mean_squared_error: 0.0198\n",
      "Epoch 10/100\n",
      "1280/1407 [==========================>...] - ETA: 0s - loss: 0.0160 - mean_squared_error: 0.0160\n",
      "Epoch 00010: val_loss improved from 0.01979 to 0.01014, saving model to ./model.h5\n",
      "1407/1407 [==============================] - 0s 274us/sample - loss: 0.0158 - mean_squared_error: 0.0158 - val_loss: 0.0101 - val_mean_squared_error: 0.0101\n",
      "Epoch 11/100\n",
      "1280/1407 [==========================>...] - ETA: 0s - loss: 0.0127 - mean_squared_error: 0.0127\n",
      "Epoch 00011: val_loss improved from 0.01014 to 0.00595, saving model to ./model.h5\n",
      "1407/1407 [==============================] - 0s 298us/sample - loss: 0.0127 - mean_squared_error: 0.0127 - val_loss: 0.0060 - val_mean_squared_error: 0.0060\n",
      "Epoch 12/100\n",
      "1280/1407 [==========================>...] - ETA: 0s - loss: 0.0103 - mean_squared_error: 0.0103\n",
      "Epoch 00012: val_loss improved from 0.00595 to 0.00458, saving model to ./model.h5\n",
      "1407/1407 [==============================] - 0s 277us/sample - loss: 0.0102 - mean_squared_error: 0.0102 - val_loss: 0.0046 - val_mean_squared_error: 0.0046\n",
      "Epoch 13/100\n",
      "1280/1407 [==========================>...] - ETA: 0s - loss: 0.0082 - mean_squared_error: 0.0082\n",
      "Epoch 00013: val_loss improved from 0.00458 to 0.00264, saving model to ./model.h5\n",
      "1407/1407 [==============================] - 0s 272us/sample - loss: 0.0081 - mean_squared_error: 0.0081 - val_loss: 0.0026 - val_mean_squared_error: 0.0026\n",
      "Epoch 14/100\n",
      "1280/1407 [==========================>...] - ETA: 0s - loss: 0.0062 - mean_squared_error: 0.0062\n",
      "Epoch 00014: val_loss improved from 0.00264 to 0.00192, saving model to ./model.h5\n",
      "1407/1407 [==============================] - 0s 290us/sample - loss: 0.0060 - mean_squared_error: 0.0060 - val_loss: 0.0019 - val_mean_squared_error: 0.0019\n",
      "Epoch 15/100\n",
      "1280/1407 [==========================>...] - ETA: 0s - loss: 0.0043 - mean_squared_error: 0.0043\n",
      "Epoch 00015: val_loss improved from 0.00192 to 0.00119, saving model to ./model.h5\n",
      "1407/1407 [==============================] - 0s 291us/sample - loss: 0.0042 - mean_squared_error: 0.0042 - val_loss: 0.0012 - val_mean_squared_error: 0.0012\n",
      "Epoch 16/100\n",
      "1280/1407 [==========================>...] - ETA: 0s - loss: 0.0029 - mean_squared_error: 0.0029\n",
      "Epoch 00016: val_loss improved from 0.00119 to 0.00077, saving model to ./model.h5\n",
      "1407/1407 [==============================] - 1s 423us/sample - loss: 0.0029 - mean_squared_error: 0.0029 - val_loss: 7.6796e-04 - val_mean_squared_error: 7.6796e-04\n",
      "Epoch 17/100\n",
      "1280/1407 [==========================>...] - ETA: 0s - loss: 0.0020 - mean_squared_error: 0.0020\n",
      "Epoch 00017: val_loss improved from 0.00077 to 0.00044, saving model to ./model.h5\n",
      "1407/1407 [==============================] - 0s 295us/sample - loss: 0.0019 - mean_squared_error: 0.0019 - val_loss: 4.3954e-04 - val_mean_squared_error: 4.3954e-04\n",
      "Epoch 18/100\n",
      "1280/1407 [==========================>...] - ETA: 0s - loss: 0.0012 - mean_squared_error: 0.0012\n",
      "Epoch 00018: val_loss improved from 0.00044 to 0.00041, saving model to ./model.h5\n",
      "1407/1407 [==============================] - 0s 307us/sample - loss: 0.0012 - mean_squared_error: 0.0012 - val_loss: 4.0644e-04 - val_mean_squared_error: 4.0644e-04\n",
      "Epoch 19/100\n",
      "1280/1407 [==========================>...] - ETA: 0s - loss: 9.1905e-04 - mean_squared_error: 9.1905e-04\n",
      "Epoch 00019: val_loss did not improve from 0.00041\n",
      "1407/1407 [==============================] - 0s 180us/sample - loss: 9.1744e-04 - mean_squared_error: 9.1744e-04 - val_loss: 6.9482e-04 - val_mean_squared_error: 6.9482e-04\n",
      "Epoch 20/100\n",
      "1280/1407 [==========================>...] - ETA: 0s - loss: 8.4259e-04 - mean_squared_error: 8.4259e-04\n",
      "Epoch 00020: val_loss did not improve from 0.00041\n",
      "1407/1407 [==============================] - 0s 174us/sample - loss: 8.2071e-04 - mean_squared_error: 8.2071e-04 - val_loss: 4.2291e-04 - val_mean_squared_error: 4.2291e-04\n",
      "Epoch 21/100\n",
      "1280/1407 [==========================>...] - ETA: 0s - loss: 8.6715e-04 - mean_squared_error: 8.6715e-04\n",
      "Epoch 00021: val_loss did not improve from 0.00041\n",
      "1407/1407 [==============================] - 0s 174us/sample - loss: 8.4903e-04 - mean_squared_error: 8.4903e-04 - val_loss: 6.1230e-04 - val_mean_squared_error: 6.1230e-04\n",
      "Epoch 22/100\n",
      "1280/1407 [==========================>...] - ETA: 0s - loss: 7.4575e-04 - mean_squared_error: 7.4575e-04\n",
      "Epoch 00022: val_loss did not improve from 0.00041\n",
      "1407/1407 [==============================] - 0s 173us/sample - loss: 7.4677e-04 - mean_squared_error: 7.4677e-04 - val_loss: 4.4777e-04 - val_mean_squared_error: 4.4777e-04\n",
      "Epoch 23/100\n",
      "1280/1407 [==========================>...] - ETA: 0s - loss: 6.8651e-04 - mean_squared_error: 6.8651e-04\n",
      "Epoch 00023: val_loss did not improve from 0.00041\n",
      "1407/1407 [==============================] - 0s 172us/sample - loss: 7.2810e-04 - mean_squared_error: 7.2810e-04 - val_loss: 6.3153e-04 - val_mean_squared_error: 6.3153e-04\n",
      "Epoch 24/100\n",
      "1280/1407 [==========================>...] - ETA: 0s - loss: 7.7259e-04 - mean_squared_error: 7.7259e-04\n",
      "Epoch 00024: val_loss did not improve from 0.00041\n",
      "1407/1407 [==============================] - 0s 172us/sample - loss: 7.7261e-04 - mean_squared_error: 7.7261e-04 - val_loss: 6.3239e-04 - val_mean_squared_error: 6.3239e-04\n"
     ]
    },
    {
     "name": "stdout",
     "output_type": "stream",
     "text": [
      "Epoch 25/100\n",
      "1280/1407 [==========================>...] - ETA: 0s - loss: 7.3835e-04 - mean_squared_error: 7.3835e-04\n",
      "Epoch 00025: val_loss did not improve from 0.00041\n",
      "1407/1407 [==============================] - 0s 170us/sample - loss: 7.4958e-04 - mean_squared_error: 7.4958e-04 - val_loss: 7.0808e-04 - val_mean_squared_error: 7.0808e-04\n",
      "Epoch 26/100\n",
      "1280/1407 [==========================>...] - ETA: 0s - loss: 7.3649e-04 - mean_squared_error: 7.3649e-04\n",
      "Epoch 00026: val_loss did not improve from 0.00041\n",
      "1407/1407 [==============================] - 0s 169us/sample - loss: 7.3057e-04 - mean_squared_error: 7.3057e-04 - val_loss: 8.9828e-04 - val_mean_squared_error: 8.9828e-04\n",
      "Epoch 27/100\n",
      "1280/1407 [==========================>...] - ETA: 0s - loss: 8.5085e-04 - mean_squared_error: 8.5085e-04\n",
      "Epoch 00027: val_loss did not improve from 0.00041\n",
      "\n",
      "Epoch 00027: ReduceLROnPlateau reducing learning rate to 7.999999797903001e-05.\n",
      "1407/1407 [==============================] - 0s 173us/sample - loss: 8.4943e-04 - mean_squared_error: 8.4943e-04 - val_loss: 7.4834e-04 - val_mean_squared_error: 7.4834e-04\n",
      "Epoch 28/100\n",
      "1280/1407 [==========================>...] - ETA: 0s - loss: 7.9367e-04 - mean_squared_error: 7.9367e-04\n",
      "Epoch 00028: val_loss did not improve from 0.00041\n",
      "1407/1407 [==============================] - 0s 169us/sample - loss: 8.0256e-04 - mean_squared_error: 8.0256e-04 - val_loss: 4.3391e-04 - val_mean_squared_error: 4.3391e-04\n",
      "Epoch 29/100\n",
      "1280/1407 [==========================>...] - ETA: 0s - loss: 6.8920e-04 - mean_squared_error: 6.8920e-04\n",
      "Epoch 00029: val_loss did not improve from 0.00041\n",
      "1407/1407 [==============================] - 0s 172us/sample - loss: 7.1243e-04 - mean_squared_error: 7.1243e-04 - val_loss: 6.4433e-04 - val_mean_squared_error: 6.4433e-04\n",
      "Epoch 30/100\n",
      "1280/1407 [==========================>...] - ETA: 0s - loss: 7.3560e-04 - mean_squared_error: 7.3560e-04\n",
      "Epoch 00030: val_loss did not improve from 0.00041\n",
      "1407/1407 [==============================] - 0s 169us/sample - loss: 7.4028e-04 - mean_squared_error: 7.4028e-04 - val_loss: 4.1652e-04 - val_mean_squared_error: 4.1652e-04\n",
      "Epoch 31/100\n",
      "1280/1407 [==========================>...] - ETA: 0s - loss: 6.8142e-04 - mean_squared_error: 6.8142e-04\n",
      "Epoch 00031: val_loss did not improve from 0.00041\n",
      "1407/1407 [==============================] - 0s 169us/sample - loss: 6.8648e-04 - mean_squared_error: 6.8648e-04 - val_loss: 4.4060e-04 - val_mean_squared_error: 4.4060e-04\n",
      "Epoch 32/100\n",
      "1280/1407 [==========================>...] - ETA: 0s - loss: 7.3620e-04 - mean_squared_error: 7.3620e-04\n",
      "Epoch 00032: val_loss did not improve from 0.00041\n",
      "1407/1407 [==============================] - 0s 170us/sample - loss: 7.3813e-04 - mean_squared_error: 7.3813e-04 - val_loss: 8.4375e-04 - val_mean_squared_error: 8.4375e-04\n",
      "Epoch 33/100\n",
      "1280/1407 [==========================>...] - ETA: 0s - loss: 8.1784e-04 - mean_squared_error: 8.1784e-04\n",
      "Epoch 00033: val_loss did not improve from 0.00041\n",
      "1407/1407 [==============================] - 0s 169us/sample - loss: 8.2342e-04 - mean_squared_error: 8.2342e-04 - val_loss: 8.6960e-04 - val_mean_squared_error: 8.6960e-04\n",
      "Epoch 34/100\n",
      "1280/1407 [==========================>...] - ETA: 0s - loss: 7.7707e-04 - mean_squared_error: 7.7707e-04\n",
      "Epoch 00034: val_loss did not improve from 0.00041\n",
      "1407/1407 [==============================] - 0s 169us/sample - loss: 7.7925e-04 - mean_squared_error: 7.7925e-04 - val_loss: 4.2030e-04 - val_mean_squared_error: 4.2030e-04\n",
      "Epoch 35/100\n",
      "1280/1407 [==========================>...] - ETA: 0s - loss: 7.4639e-04 - mean_squared_error: 7.4639e-04\n",
      "Epoch 00035: val_loss did not improve from 0.00041\n",
      "1407/1407 [==============================] - 0s 170us/sample - loss: 7.5129e-04 - mean_squared_error: 7.5129e-04 - val_loss: 5.8911e-04 - val_mean_squared_error: 5.8911e-04\n",
      "Epoch 36/100\n",
      "1280/1407 [==========================>...] - ETA: 0s - loss: 7.3778e-04 - mean_squared_error: 7.3778e-04\n",
      "Epoch 00036: val_loss improved from 0.00041 to 0.00040, saving model to ./model.h5\n",
      "1407/1407 [==============================] - 0s 267us/sample - loss: 7.3469e-04 - mean_squared_error: 7.3469e-04 - val_loss: 4.0487e-04 - val_mean_squared_error: 4.0487e-04\n",
      "Epoch 37/100\n",
      "1280/1407 [==========================>...] - ETA: 0s - loss: 7.6219e-04 - mean_squared_error: 7.6219e-04\n",
      "Epoch 00037: val_loss did not improve from 0.00040\n",
      "\n",
      "Epoch 00037: ReduceLROnPlateau reducing learning rate to 6.399999838322402e-05.\n",
      "1407/1407 [==============================] - 0s 176us/sample - loss: 7.5870e-04 - mean_squared_error: 7.5870e-04 - val_loss: 4.0579e-04 - val_mean_squared_error: 4.0579e-04\n",
      "Epoch 38/100\n",
      "1280/1407 [==========================>...] - ETA: 0s - loss: 6.5777e-04 - mean_squared_error: 6.5777e-04\n",
      "Epoch 00038: val_loss did not improve from 0.00040\n",
      "1407/1407 [==============================] - 0s 169us/sample - loss: 6.4008e-04 - mean_squared_error: 6.4008e-04 - val_loss: 4.0670e-04 - val_mean_squared_error: 4.0670e-04\n",
      "Epoch 39/100\n",
      "1280/1407 [==========================>...] - ETA: 0s - loss: 6.4611e-04 - mean_squared_error: 6.4611e-04\n",
      "Epoch 00039: val_loss did not improve from 0.00040\n",
      "1407/1407 [==============================] - 0s 171us/sample - loss: 6.6275e-04 - mean_squared_error: 6.6275e-04 - val_loss: 4.8067e-04 - val_mean_squared_error: 4.8067e-04\n",
      "Epoch 40/100\n",
      "1280/1407 [==========================>...] - ETA: 0s - loss: 7.1857e-04 - mean_squared_error: 7.1857e-04\n",
      "Epoch 00040: val_loss did not improve from 0.00040\n",
      "1407/1407 [==============================] - 0s 169us/sample - loss: 7.0534e-04 - mean_squared_error: 7.0534e-04 - val_loss: 5.4211e-04 - val_mean_squared_error: 5.4211e-04\n",
      "Epoch 41/100\n",
      "1280/1407 [==========================>...] - ETA: 0s - loss: 7.7466e-04 - mean_squared_error: 7.7466e-04\n",
      "Epoch 00041: val_loss did not improve from 0.00040\n",
      "1407/1407 [==============================] - 0s 170us/sample - loss: 7.5424e-04 - mean_squared_error: 7.5424e-04 - val_loss: 4.7872e-04 - val_mean_squared_error: 4.7872e-04\n",
      "Epoch 42/100\n",
      "1280/1407 [==========================>...] - ETA: 0s - loss: 6.3331e-04 - mean_squared_error: 6.3331e-04\n",
      "Epoch 00042: val_loss improved from 0.00040 to 0.00039, saving model to ./model.h5\n",
      "1407/1407 [==============================] - 0s 293us/sample - loss: 6.3417e-04 - mean_squared_error: 6.3417e-04 - val_loss: 3.9486e-04 - val_mean_squared_error: 3.9486e-04\n",
      "Epoch 43/100\n",
      "1280/1407 [==========================>...] - ETA: 0s - loss: 6.4699e-04 - mean_squared_error: 6.4699e-04\n",
      "Epoch 00043: val_loss did not improve from 0.00039\n",
      "1407/1407 [==============================] - 0s 174us/sample - loss: 6.2785e-04 - mean_squared_error: 6.2785e-04 - val_loss: 3.9628e-04 - val_mean_squared_error: 3.9628e-04\n",
      "Epoch 44/100\n",
      "1280/1407 [==========================>...] - ETA: 0s - loss: 6.8631e-04 - mean_squared_error: 6.8631e-04\n",
      "Epoch 00044: val_loss did not improve from 0.00039\n",
      "1407/1407 [==============================] - 0s 172us/sample - loss: 6.8196e-04 - mean_squared_error: 6.8196e-04 - val_loss: 4.0137e-04 - val_mean_squared_error: 4.0137e-04\n",
      "Epoch 45/100\n",
      "1280/1407 [==========================>...] - ETA: 0s - loss: 6.4376e-04 - mean_squared_error: 6.4376e-04\n",
      "Epoch 00045: val_loss did not improve from 0.00039\n",
      "1407/1407 [==============================] - 0s 170us/sample - loss: 6.5673e-04 - mean_squared_error: 6.5673e-04 - val_loss: 4.7440e-04 - val_mean_squared_error: 4.7440e-04\n",
      "Epoch 46/100\n",
      "1280/1407 [==========================>...] - ETA: 0s - loss: 6.8905e-04 - mean_squared_error: 6.8905e-04\n",
      "Epoch 00046: val_loss did not improve from 0.00039\n",
      "1407/1407 [==============================] - 0s 171us/sample - loss: 6.7977e-04 - mean_squared_error: 6.7977e-04 - val_loss: 3.9697e-04 - val_mean_squared_error: 3.9697e-04\n",
      "Epoch 47/100\n",
      "1280/1407 [==========================>...] - ETA: 0s - loss: 6.2475e-04 - mean_squared_error: 6.2475e-04\n",
      "Epoch 00047: val_loss did not improve from 0.00039\n",
      "\n",
      "Epoch 00047: ReduceLROnPlateau reducing learning rate to 5.119999987073243e-05.\n",
      "1407/1407 [==============================] - 0s 168us/sample - loss: 6.1157e-04 - mean_squared_error: 6.1157e-04 - val_loss: 4.1627e-04 - val_mean_squared_error: 4.1627e-04\n",
      "Epoch 48/100\n",
      "1280/1407 [==========================>...] - ETA: 0s - loss: 6.3667e-04 - mean_squared_error: 6.3667e-04\n",
      "Epoch 00048: val_loss did not improve from 0.00039\n",
      "1407/1407 [==============================] - 0s 171us/sample - loss: 6.4389e-04 - mean_squared_error: 6.4389e-04 - val_loss: 4.2702e-04 - val_mean_squared_error: 4.2702e-04\n",
      "Epoch 49/100\n",
      "1280/1407 [==========================>...] - ETA: 0s - loss: 6.1820e-04 - mean_squared_error: 6.1820e-04\n",
      "Epoch 00049: val_loss did not improve from 0.00039\n",
      "1407/1407 [==============================] - 0s 167us/sample - loss: 6.1390e-04 - mean_squared_error: 6.1390e-04 - val_loss: 4.0303e-04 - val_mean_squared_error: 4.0303e-04\n",
      "Epoch 50/100\n",
      "1280/1407 [==========================>...] - ETA: 0s - loss: 6.7580e-04 - mean_squared_error: 6.7580e-04\n",
      "Epoch 00050: val_loss did not improve from 0.00039\n",
      "1407/1407 [==============================] - 0s 170us/sample - loss: 6.6354e-04 - mean_squared_error: 6.6354e-04 - val_loss: 5.0065e-04 - val_mean_squared_error: 5.0065e-04\n",
      "Epoch 51/100\n",
      "1280/1407 [==========================>...] - ETA: 0s - loss: 6.7012e-04 - mean_squared_error: 6.7012e-04\n",
      "Epoch 00051: val_loss did not improve from 0.00039\n",
      "1407/1407 [==============================] - 0s 171us/sample - loss: 6.5461e-04 - mean_squared_error: 6.5461e-04 - val_loss: 4.1300e-04 - val_mean_squared_error: 4.1300e-04\n",
      "Epoch 52/100\n",
      "1280/1407 [==========================>...] - ETA: 0s - loss: 7.3026e-04 - mean_squared_error: 7.3026e-04\n",
      "Epoch 00052: val_loss did not improve from 0.00039\n",
      "1407/1407 [==============================] - 0s 172us/sample - loss: 6.9569e-04 - mean_squared_error: 6.9569e-04 - val_loss: 4.7078e-04 - val_mean_squared_error: 4.7078e-04\n",
      "Epoch 53/100\n",
      "1280/1407 [==========================>...] - ETA: 0s - loss: 6.3504e-04 - mean_squared_error: 6.3504e-04\n",
      "Epoch 00053: val_loss improved from 0.00039 to 0.00039, saving model to ./model.h5\n",
      "1407/1407 [==============================] - 0s 279us/sample - loss: 6.2829e-04 - mean_squared_error: 6.2829e-04 - val_loss: 3.8975e-04 - val_mean_squared_error: 3.8975e-04\n",
      "Epoch 54/100\n",
      "1280/1407 [==========================>...] - ETA: 0s - loss: 6.2280e-04 - mean_squared_error: 6.2280e-04\n",
      "Epoch 00054: val_loss did not improve from 0.00039\n",
      "1407/1407 [==============================] - 0s 179us/sample - loss: 6.2068e-04 - mean_squared_error: 6.2068e-04 - val_loss: 4.3940e-04 - val_mean_squared_error: 4.3940e-04\n",
      "Epoch 55/100\n",
      "1280/1407 [==========================>...] - ETA: 0s - loss: 5.9036e-04 - mean_squared_error: 5.9036e-04\n",
      "Epoch 00055: val_loss did not improve from 0.00039\n",
      "1407/1407 [==============================] - 0s 172us/sample - loss: 6.2144e-04 - mean_squared_error: 6.2144e-04 - val_loss: 4.3618e-04 - val_mean_squared_error: 4.3618e-04\n",
      "Epoch 56/100\n",
      "1280/1407 [==========================>...] - ETA: 0s - loss: 5.9600e-04 - mean_squared_error: 5.9600e-04\n",
      "Epoch 00056: val_loss did not improve from 0.00039\n",
      "1407/1407 [==============================] - 0s 170us/sample - loss: 6.0202e-04 - mean_squared_error: 6.0202e-04 - val_loss: 5.9495e-04 - val_mean_squared_error: 5.9495e-04\n",
      "Epoch 57/100\n",
      "1280/1407 [==========================>...] - ETA: 0s - loss: 6.1996e-04 - mean_squared_error: 6.1996e-04\n",
      "Epoch 00057: val_loss did not improve from 0.00039\n",
      "\n",
      "Epoch 00057: ReduceLROnPlateau reducing learning rate to 4.0960000478662555e-05.\n",
      "1407/1407 [==============================] - 0s 172us/sample - loss: 6.4526e-04 - mean_squared_error: 6.4526e-04 - val_loss: 7.7284e-04 - val_mean_squared_error: 7.7284e-04\n",
      "Epoch 58/100\n",
      "1280/1407 [==========================>...] - ETA: 0s - loss: 6.9457e-04 - mean_squared_error: 6.9457e-04\n",
      "Epoch 00058: val_loss did not improve from 0.00039\n",
      "1407/1407 [==============================] - 0s 172us/sample - loss: 6.9491e-04 - mean_squared_error: 6.9491e-04 - val_loss: 4.4697e-04 - val_mean_squared_error: 4.4697e-04\n",
      "Epoch 59/100\n",
      "1280/1407 [==========================>...] - ETA: 0s - loss: 6.1648e-04 - mean_squared_error: 6.1648e-04\n",
      "Epoch 00059: val_loss did not improve from 0.00039\n",
      "1407/1407 [==============================] - 0s 170us/sample - loss: 6.1272e-04 - mean_squared_error: 6.1272e-04 - val_loss: 3.9152e-04 - val_mean_squared_error: 3.9152e-04\n",
      "Epoch 60/100\n",
      "1280/1407 [==========================>...] - ETA: 0s - loss: 5.5109e-04 - mean_squared_error: 5.5109e-04\n",
      "Epoch 00060: val_loss did not improve from 0.00039\n",
      "1407/1407 [==============================] - 0s 177us/sample - loss: 5.5279e-04 - mean_squared_error: 5.5279e-04 - val_loss: 4.4348e-04 - val_mean_squared_error: 4.4348e-04\n",
      "Epoch 61/100\n",
      "1280/1407 [==========================>...] - ETA: 0s - loss: 6.2458e-04 - mean_squared_error: 6.2458e-04\n",
      "Epoch 00061: val_loss did not improve from 0.00039\n",
      "1407/1407 [==============================] - 0s 174us/sample - loss: 6.0242e-04 - mean_squared_error: 6.0242e-04 - val_loss: 3.9120e-04 - val_mean_squared_error: 3.9120e-04\n",
      "Epoch 62/100\n",
      "1280/1407 [==========================>...] - ETA: 0s - loss: 5.7368e-04 - mean_squared_error: 5.7368e-04\n",
      "Epoch 00062: val_loss did not improve from 0.00039\n",
      "1407/1407 [==============================] - 0s 172us/sample - loss: 5.7046e-04 - mean_squared_error: 5.7046e-04 - val_loss: 4.0614e-04 - val_mean_squared_error: 4.0614e-04\n",
      "Epoch 63/100\n",
      "1280/1407 [==========================>...] - ETA: 0s - loss: 5.8671e-04 - mean_squared_error: 5.8671e-04\n",
      "Epoch 00063: val_loss did not improve from 0.00039\n",
      "1407/1407 [==============================] - 0s 181us/sample - loss: 5.9395e-04 - mean_squared_error: 5.9395e-04 - val_loss: 5.6947e-04 - val_mean_squared_error: 5.6947e-04\n",
      "Epoch 64/100\n",
      "1280/1407 [==========================>...] - ETA: 0s - loss: 6.2091e-04 - mean_squared_error: 6.2091e-04\n",
      "Epoch 00064: val_loss did not improve from 0.00039\n",
      "1407/1407 [==============================] - 0s 174us/sample - loss: 6.1174e-04 - mean_squared_error: 6.1174e-04 - val_loss: 4.3301e-04 - val_mean_squared_error: 4.3301e-04\n",
      "Epoch 65/100\n",
      "1280/1407 [==========================>...] - ETA: 0s - loss: 6.3318e-04 - mean_squared_error: 6.3318e-04\n",
      "Epoch 00065: val_loss did not improve from 0.00039\n",
      "1407/1407 [==============================] - 0s 174us/sample - loss: 6.3474e-04 - mean_squared_error: 6.3474e-04 - val_loss: 4.0765e-04 - val_mean_squared_error: 4.0765e-04\n",
      "Epoch 66/100\n",
      "1280/1407 [==========================>...] - ETA: 0s - loss: 6.2976e-04 - mean_squared_error: 6.2976e-04\n",
      "Epoch 00066: val_loss improved from 0.00039 to 0.00038, saving model to ./model.h5\n",
      "1407/1407 [==============================] - 0s 300us/sample - loss: 6.2408e-04 - mean_squared_error: 6.2408e-04 - val_loss: 3.8462e-04 - val_mean_squared_error: 3.8462e-04\n",
      "Epoch 67/100\n",
      "1280/1407 [==========================>...] - ETA: 0s - loss: 5.6643e-04 - mean_squared_error: 5.6643e-04\n",
      "Epoch 00067: val_loss did not improve from 0.00038\n",
      "\n",
      "Epoch 00067: ReduceLROnPlateau reducing learning rate to 3.2767999800853435e-05.\n",
      "1407/1407 [==============================] - 0s 181us/sample - loss: 5.8016e-04 - mean_squared_error: 5.8016e-04 - val_loss: 5.4308e-04 - val_mean_squared_error: 5.4308e-04\n",
      "Epoch 68/100\n",
      "1280/1407 [==========================>...] - ETA: 0s - loss: 6.1961e-04 - mean_squared_error: 6.1961e-04\n",
      "Epoch 00068: val_loss did not improve from 0.00038\n",
      "1407/1407 [==============================] - 0s 175us/sample - loss: 6.1298e-04 - mean_squared_error: 6.1298e-04 - val_loss: 4.1109e-04 - val_mean_squared_error: 4.1109e-04\n",
      "Epoch 69/100\n",
      "1280/1407 [==========================>...] - ETA: 0s - loss: 6.1992e-04 - mean_squared_error: 6.1992e-04\n",
      "Epoch 00069: val_loss improved from 0.00038 to 0.00038, saving model to ./model.h5\n",
      "1407/1407 [==============================] - 0s 292us/sample - loss: 6.1372e-04 - mean_squared_error: 6.1372e-04 - val_loss: 3.8334e-04 - val_mean_squared_error: 3.8334e-04\n",
      "Epoch 70/100\n",
      "1280/1407 [==========================>...] - ETA: 0s - loss: 6.4714e-04 - mean_squared_error: 6.4714e-04\n",
      "Epoch 00070: val_loss did not improve from 0.00038\n",
      "1407/1407 [==============================] - 0s 180us/sample - loss: 6.4433e-04 - mean_squared_error: 6.4433e-04 - val_loss: 4.3355e-04 - val_mean_squared_error: 4.3355e-04\n",
      "Epoch 71/100\n"
     ]
    },
    {
     "name": "stdout",
     "output_type": "stream",
     "text": [
      "1280/1407 [==========================>...] - ETA: 0s - loss: 5.7532e-04 - mean_squared_error: 5.7532e-04\n",
      "Epoch 00071: val_loss did not improve from 0.00038\n",
      "1407/1407 [==============================] - 0s 178us/sample - loss: 5.8424e-04 - mean_squared_error: 5.8424e-04 - val_loss: 3.8871e-04 - val_mean_squared_error: 3.8871e-04\n",
      "Epoch 72/100\n",
      "1280/1407 [==========================>...] - ETA: 0s - loss: 6.5859e-04 - mean_squared_error: 6.5859e-04\n",
      "Epoch 00072: val_loss improved from 0.00038 to 0.00038, saving model to ./model.h5\n",
      "1407/1407 [==============================] - 0s 296us/sample - loss: 6.4109e-04 - mean_squared_error: 6.4109e-04 - val_loss: 3.8180e-04 - val_mean_squared_error: 3.8180e-04\n",
      "Epoch 73/100\n",
      "1280/1407 [==========================>...] - ETA: 0s - loss: 6.2750e-04 - mean_squared_error: 6.2750e-04\n",
      "Epoch 00073: val_loss did not improve from 0.00038\n",
      "1407/1407 [==============================] - 0s 179us/sample - loss: 6.4511e-04 - mean_squared_error: 6.4511e-04 - val_loss: 3.9224e-04 - val_mean_squared_error: 3.9224e-04\n",
      "Epoch 74/100\n",
      "1280/1407 [==========================>...] - ETA: 0s - loss: 5.6471e-04 - mean_squared_error: 5.6471e-04\n",
      "Epoch 00074: val_loss did not improve from 0.00038\n",
      "1407/1407 [==============================] - 0s 177us/sample - loss: 5.7546e-04 - mean_squared_error: 5.7546e-04 - val_loss: 4.5706e-04 - val_mean_squared_error: 4.5706e-04\n",
      "Epoch 75/100\n",
      "1280/1407 [==========================>...] - ETA: 0s - loss: 6.1354e-04 - mean_squared_error: 6.1354e-04\n",
      "Epoch 00075: val_loss did not improve from 0.00038\n",
      "1407/1407 [==============================] - 0s 169us/sample - loss: 6.1788e-04 - mean_squared_error: 6.1788e-04 - val_loss: 4.7447e-04 - val_mean_squared_error: 4.7447e-04\n",
      "Epoch 76/100\n",
      "1280/1407 [==========================>...] - ETA: 0s - loss: 6.4905e-04 - mean_squared_error: 6.4905e-04\n",
      "Epoch 00076: val_loss did not improve from 0.00038\n",
      "1407/1407 [==============================] - 0s 171us/sample - loss: 6.5125e-04 - mean_squared_error: 6.5125e-04 - val_loss: 4.3946e-04 - val_mean_squared_error: 4.3946e-04\n",
      "Epoch 77/100\n",
      "1280/1407 [==========================>...] - ETA: 0s - loss: 5.4298e-04 - mean_squared_error: 5.4298e-04\n",
      "Epoch 00077: val_loss did not improve from 0.00038\n",
      "\n",
      "Epoch 00077: ReduceLROnPlateau reducing learning rate to 2.6214399258606137e-05.\n",
      "1407/1407 [==============================] - 0s 174us/sample - loss: 5.3536e-04 - mean_squared_error: 5.3536e-04 - val_loss: 5.7540e-04 - val_mean_squared_error: 5.7540e-04\n",
      "Epoch 78/100\n",
      "1280/1407 [==========================>...] - ETA: 0s - loss: 6.6560e-04 - mean_squared_error: 6.6560e-04\n",
      "Epoch 00078: val_loss did not improve from 0.00038\n",
      "1407/1407 [==============================] - 0s 171us/sample - loss: 6.5525e-04 - mean_squared_error: 6.5525e-04 - val_loss: 4.7411e-04 - val_mean_squared_error: 4.7411e-04\n",
      "Epoch 79/100\n",
      "1280/1407 [==========================>...] - ETA: 0s - loss: 5.4588e-04 - mean_squared_error: 5.4588e-04\n",
      "Epoch 00079: val_loss did not improve from 0.00038\n",
      "1407/1407 [==============================] - 0s 172us/sample - loss: 5.5855e-04 - mean_squared_error: 5.5855e-04 - val_loss: 3.9672e-04 - val_mean_squared_error: 3.9672e-04\n",
      "Epoch 80/100\n",
      "1280/1407 [==========================>...] - ETA: 0s - loss: 5.9425e-04 - mean_squared_error: 5.9425e-04\n",
      "Epoch 00080: val_loss did not improve from 0.00038\n",
      "1407/1407 [==============================] - 0s 172us/sample - loss: 6.1231e-04 - mean_squared_error: 6.1231e-04 - val_loss: 4.4513e-04 - val_mean_squared_error: 4.4513e-04\n",
      "Epoch 81/100\n",
      "1280/1407 [==========================>...] - ETA: 0s - loss: 6.1818e-04 - mean_squared_error: 6.1818e-04\n",
      "Epoch 00081: val_loss did not improve from 0.00038\n",
      "1407/1407 [==============================] - 0s 172us/sample - loss: 6.1509e-04 - mean_squared_error: 6.1509e-04 - val_loss: 5.1676e-04 - val_mean_squared_error: 5.1676e-04\n",
      "Epoch 82/100\n",
      "1280/1407 [==========================>...] - ETA: 0s - loss: 6.1189e-04 - mean_squared_error: 6.1189e-04\n",
      "Epoch 00082: val_loss did not improve from 0.00038\n",
      "1407/1407 [==============================] - 0s 173us/sample - loss: 5.9847e-04 - mean_squared_error: 5.9847e-04 - val_loss: 4.7670e-04 - val_mean_squared_error: 4.7670e-04\n",
      "Epoch 83/100\n",
      "1280/1407 [==========================>...] - ETA: 0s - loss: 6.1569e-04 - mean_squared_error: 6.1569e-04\n",
      "Epoch 00083: val_loss did not improve from 0.00038\n",
      "1407/1407 [==============================] - 0s 172us/sample - loss: 6.0198e-04 - mean_squared_error: 6.0198e-04 - val_loss: 3.8593e-04 - val_mean_squared_error: 3.8593e-04\n",
      "Epoch 84/100\n",
      "1280/1407 [==========================>...] - ETA: 0s - loss: 6.0297e-04 - mean_squared_error: 6.0297e-04\n",
      "Epoch 00084: val_loss did not improve from 0.00038\n",
      "1407/1407 [==============================] - 0s 171us/sample - loss: 6.0219e-04 - mean_squared_error: 6.0219e-04 - val_loss: 4.4564e-04 - val_mean_squared_error: 4.4564e-04\n",
      "Epoch 85/100\n",
      "1280/1407 [==========================>...] - ETA: 0s - loss: 5.9832e-04 - mean_squared_error: 5.9832e-04\n",
      "Epoch 00085: val_loss improved from 0.00038 to 0.00038, saving model to ./model.h5\n",
      "1407/1407 [==============================] - 0s 305us/sample - loss: 6.1382e-04 - mean_squared_error: 6.1382e-04 - val_loss: 3.7998e-04 - val_mean_squared_error: 3.7998e-04\n",
      "Epoch 86/100\n",
      "1280/1407 [==========================>...] - ETA: 0s - loss: 6.2308e-04 - mean_squared_error: 6.2308e-04\n",
      "Epoch 00086: val_loss did not improve from 0.00038\n",
      "1407/1407 [==============================] - 0s 181us/sample - loss: 6.0909e-04 - mean_squared_error: 6.0909e-04 - val_loss: 4.6069e-04 - val_mean_squared_error: 4.6069e-04\n",
      "Epoch 87/100\n",
      "1280/1407 [==========================>...] - ETA: 0s - loss: 6.3835e-04 - mean_squared_error: 6.3835e-04\n",
      "Epoch 00087: val_loss did not improve from 0.00038\n",
      "\n",
      "Epoch 00087: ReduceLROnPlateau reducing learning rate to 2.09715188248083e-05.\n",
      "1407/1407 [==============================] - 0s 175us/sample - loss: 6.4292e-04 - mean_squared_error: 6.4292e-04 - val_loss: 3.8005e-04 - val_mean_squared_error: 3.8005e-04\n",
      "Epoch 88/100\n",
      "1280/1407 [==========================>...] - ETA: 0s - loss: 5.6441e-04 - mean_squared_error: 5.6441e-04\n",
      "Epoch 00088: val_loss did not improve from 0.00038\n",
      "1407/1407 [==============================] - 0s 177us/sample - loss: 5.7592e-04 - mean_squared_error: 5.7592e-04 - val_loss: 4.1253e-04 - val_mean_squared_error: 4.1253e-04\n",
      "Epoch 89/100\n",
      "1280/1407 [==========================>...] - ETA: 0s - loss: 5.2558e-04 - mean_squared_error: 5.2558e-04\n",
      "Epoch 00089: val_loss improved from 0.00038 to 0.00038, saving model to ./model.h5\n",
      "1407/1407 [==============================] - 0s 283us/sample - loss: 5.5253e-04 - mean_squared_error: 5.5253e-04 - val_loss: 3.7794e-04 - val_mean_squared_error: 3.7794e-04\n",
      "Epoch 90/100\n",
      "1280/1407 [==========================>...] - ETA: 0s - loss: 6.3742e-04 - mean_squared_error: 6.3742e-04\n",
      "Epoch 00090: val_loss did not improve from 0.00038\n",
      "1407/1407 [==============================] - 0s 182us/sample - loss: 6.3326e-04 - mean_squared_error: 6.3326e-04 - val_loss: 3.9001e-04 - val_mean_squared_error: 3.9001e-04\n",
      "Epoch 91/100\n",
      "1280/1407 [==========================>...] - ETA: 0s - loss: 5.6816e-04 - mean_squared_error: 5.6816e-04\n",
      "Epoch 00091: val_loss did not improve from 0.00038\n",
      "1407/1407 [==============================] - 0s 173us/sample - loss: 5.5859e-04 - mean_squared_error: 5.5859e-04 - val_loss: 3.9865e-04 - val_mean_squared_error: 3.9865e-04\n",
      "Epoch 92/100\n",
      "1280/1407 [==========================>...] - ETA: 0s - loss: 6.0084e-04 - mean_squared_error: 6.0084e-04\n",
      "Epoch 00092: val_loss improved from 0.00038 to 0.00038, saving model to ./model.h5\n",
      "1407/1407 [==============================] - 0s 302us/sample - loss: 5.7671e-04 - mean_squared_error: 5.7671e-04 - val_loss: 3.7786e-04 - val_mean_squared_error: 3.7786e-04\n",
      "Epoch 93/100\n",
      "1280/1407 [==========================>...] - ETA: 0s - loss: 5.4345e-04 - mean_squared_error: 5.4345e-04\n",
      "Epoch 00093: val_loss did not improve from 0.00038\n",
      "1407/1407 [==============================] - 0s 185us/sample - loss: 5.4678e-04 - mean_squared_error: 5.4678e-04 - val_loss: 4.1152e-04 - val_mean_squared_error: 4.1152e-04\n",
      "Epoch 94/100\n",
      "1280/1407 [==========================>...] - ETA: 0s - loss: 5.5305e-04 - mean_squared_error: 5.5305e-04\n",
      "Epoch 00094: val_loss did not improve from 0.00038\n",
      "1407/1407 [==============================] - 0s 170us/sample - loss: 5.5997e-04 - mean_squared_error: 5.5997e-04 - val_loss: 3.8101e-04 - val_mean_squared_error: 3.8101e-04\n",
      "Epoch 95/100\n",
      "1280/1407 [==========================>...] - ETA: 0s - loss: 5.7867e-04 - mean_squared_error: 5.7867e-04\n",
      "Epoch 00095: val_loss did not improve from 0.00038\n",
      "1407/1407 [==============================] - 0s 177us/sample - loss: 5.9454e-04 - mean_squared_error: 5.9454e-04 - val_loss: 3.7877e-04 - val_mean_squared_error: 3.7877e-04\n",
      "Epoch 96/100\n",
      "1280/1407 [==========================>...] - ETA: 0s - loss: 5.5484e-04 - mean_squared_error: 5.5484e-04\n",
      "Epoch 00096: val_loss did not improve from 0.00038\n",
      "1407/1407 [==============================] - 0s 188us/sample - loss: 5.7132e-04 - mean_squared_error: 5.7132e-04 - val_loss: 4.4599e-04 - val_mean_squared_error: 4.4599e-04\n",
      "Epoch 97/100\n",
      "1280/1407 [==========================>...] - ETA: 0s - loss: 5.1457e-04 - mean_squared_error: 5.1457e-04\n",
      "Epoch 00097: val_loss did not improve from 0.00038\n",
      "\n",
      "Epoch 00097: ReduceLROnPlateau reducing learning rate to 1.6777214477770033e-05.\n",
      "1407/1407 [==============================] - 0s 186us/sample - loss: 5.3299e-04 - mean_squared_error: 5.3299e-04 - val_loss: 4.1172e-04 - val_mean_squared_error: 4.1172e-04\n",
      "Epoch 98/100\n",
      "1280/1407 [==========================>...] - ETA: 0s - loss: 6.1125e-04 - mean_squared_error: 6.1125e-04\n",
      "Epoch 00098: val_loss did not improve from 0.00038\n",
      "1407/1407 [==============================] - 0s 184us/sample - loss: 6.3862e-04 - mean_squared_error: 6.3862e-04 - val_loss: 4.6995e-04 - val_mean_squared_error: 4.6995e-04\n",
      "Epoch 99/100\n",
      "1280/1407 [==========================>...] - ETA: 0s - loss: 5.4145e-04 - mean_squared_error: 5.4145e-04\n",
      "Epoch 00099: val_loss did not improve from 0.00038\n",
      "1407/1407 [==============================] - 0s 176us/sample - loss: 5.4483e-04 - mean_squared_error: 5.4483e-04 - val_loss: 4.9935e-04 - val_mean_squared_error: 4.9935e-04\n",
      "Epoch 100/100\n",
      "1280/1407 [==========================>...] - ETA: 0s - loss: 6.1729e-04 - mean_squared_error: 6.1729e-04\n",
      "Epoch 00100: val_loss did not improve from 0.00038\n",
      "1407/1407 [==============================] - 0s 186us/sample - loss: 6.0241e-04 - mean_squared_error: 6.0241e-04 - val_loss: 3.8226e-04 - val_mean_squared_error: 3.8226e-04\n"
     ]
    }
   ],
   "source": [
    "history = model.fit(X_train, \n",
    "                    y_train, \n",
    "                    epochs=100, \n",
    "                    batch_size=256, \n",
    "                    callbacks=[checkpoint, lr_reduce], \n",
    "                    validation_data=(X_test, y_test))"
   ]
  },
  {
   "cell_type": "code",
   "execution_count": 23,
   "metadata": {},
   "outputs": [],
   "source": [
    "# Load best model\n",
    "model = load_model(filepath)"
   ]
  },
  {
   "cell_type": "code",
   "execution_count": 24,
   "metadata": {
    "scrolled": false
   },
   "outputs": [
    {
     "data": {
      "image/png": "[encoded data removed]",
      "text/plain": [
       "<Figure size 432x288 with 1 Axes>"
      ]
     },
     "metadata": {
      "needs_background": "light"
     },
     "output_type": "display_data"
    }
   ],
   "source": [
    "# Plot loss vs epoch\n",
    "plt.plot(history.history['loss'], color='b', label='train')\n",
    "plt.plot(history.history['val_loss'], color='r', label='test')\n",
    "plt.title('Loss vs. Epoch')\n",
    "plt.ylabel('loss')\n",
    "plt.xlabel('epoch')\n",
    "plt.legend(loc='upper right')\n",
    "plt.show()"
   ]
  },
  {
   "cell_type": "code",
   "execution_count": 25,
   "metadata": {},
   "outputs": [
    {
     "name": "stdout",
     "output_type": "stream",
     "text": [
      "Train Score: 0.00024 MSE (0.02 RMSE)\n",
      "Test Score: 0.00038 MSE (0.02 RMSE)\n"
     ]
    }
   ],
   "source": [
    "def model_score(model, X_train, y_train, X_test, y_test):\n",
    "    train_score = model.evaluate(X_train, y_train, verbose=0)\n",
    "    print('Train Score: %.5f MSE (%.2f RMSE)' % (train_score[0], math.sqrt(train_score[0])))\n",
    "    test_score = model.evaluate(X_test, y_test, verbose=0)\n",
    "    print('Test Score: %.5f MSE (%.2f RMSE)' % (test_score[0], math.sqrt(test_score[0])))\n",
    "\n",
    "model_score(model, X_train, y_train , X_test, y_test)"
   ]
  },
  {
   "cell_type": "code",
   "execution_count": 26,
   "metadata": {},
   "outputs": [],
   "source": [
    "pred = model.predict(X_test)\n",
    "pred = scaler.inverse_transform(pred) + series_mean"
   ]
  },
  {
   "cell_type": "code",
   "execution_count": 27,
   "metadata": {},
   "outputs": [],
   "source": [
    "y_test = y_test[..., np.newaxis]\n",
    "y_test = scaler.inverse_transform(y_test) + series_mean"
   ]
  },
  {
   "cell_type": "code",
   "execution_count": 29,
   "metadata": {},
   "outputs": [
    {
     "data": {
      "image/png": "[encoded data removed]",
      "text/plain": [
       "<Figure size 1080x504 with 1 Axes>"
      ]
     },
     "metadata": {
      "needs_background": "light"
     },
     "output_type": "display_data"
    }
   ],
   "source": [
    "plt.rcParams[\"figure.figsize\"] = (15,7)\n",
    "plt.plot(y_test, label='actual', color='b')\n",
    "plt.plot(pred, label='predicted', color='r')\n",
    "plt.xlabel('Time [days]')\n",
    "plt.ylabel('Stock Prices [$]')\n",
    "plt.title('New York Stock Exchange Prices: YHOO')\n",
    "plt.legend(loc='upper left')\n",
    "plt.grid(True)\n",
    "plt.show()"
   ]
  }
 ],
 "metadata": {
  "kernelspec": {
   "display_name": "Python 3",
   "language": "python",
   "name": "python3"
  },
  "language_info": {
   "codemirror_mode": {
    "name": "ipython",
    "version": 3
   },
   "file_extension": ".py",
   "mimetype": "text/x-python",
   "name": "python",
   "nbconvert_exporter": "python",
   "pygments_lexer": "ipython3",
   "version": "3.7.3"
  }
 },
 "nbformat": 4,
 "nbformat_minor": 2
}
